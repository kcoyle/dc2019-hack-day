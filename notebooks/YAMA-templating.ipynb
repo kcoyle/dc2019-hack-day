{
 "cells": [
  {
   "cell_type": "markdown",
   "metadata": {},
   "source": [
    "# Jinja2 Templating for YAML / YAMA AP"
   ]
  },
  {
   "cell_type": "markdown",
   "metadata": {},
   "source": [
    "This first cell is only required to install dependecies locally. Mybinder installs the dependecies from `requirements.txt`, so no need to run this cell in MyBinder.org"
   ]
  },
  {
   "cell_type": "code",
   "execution_count": null,
   "metadata": {},
   "outputs": [],
   "source": [
    "!pip install PyShExC\n",
    "!pip install Jinja2\n",
    "!pip install ruamel.yaml[jinja2]"
   ]
  },
  {
   "cell_type": "markdown",
   "metadata": {},
   "source": [
    "### 1. MAP in YAML"
   ]
  },
  {
   "cell_type": "code",
   "execution_count": null,
   "metadata": {},
   "outputs": [],
   "source": [
    "ap_yaml = \"\"\"\n",
    "\n",
    "%YAML 1.1\n",
    "---\n",
    "\n",
    "namespaces:\n",
    "  dc: http://purl.org/dc/terms/\n",
    "  bibframe: http://id.loc.gov/ontologies/bibframe/\n",
    "  foaf: http://xmlns.com/foaf/0.1/\n",
    "  schema: http://schema.org/\n",
    "  xsd: http://www.w3.org/2001/XMLSchema#\n",
    "\n",
    "value:\n",
    "\n",
    "  - &value_literal_3_250\n",
    "    valueID: value_literal_3_250\n",
    "    dataType: xsd:string \n",
    "    minLength: 3 \n",
    "    maxLength: 250\n",
    "  \n",
    "  - &any_name\n",
    "    valueID: any_name\n",
    "    dataType: xsd:string\n",
    "    \n",
    "  - &url\n",
    "    valueID: url\n",
    "    dataType: xsd:anyURI\n",
    "\n",
    "statements:\n",
    "\n",
    "  - &title\n",
    "    statementID: title \n",
    "    displayName: Title\n",
    "    property: dc:title\n",
    "    type: literal\n",
    "    value : *value_literal_3_250\n",
    "\n",
    "  - &name\n",
    "    statementID: name \n",
    "    displayName: Name\n",
    "    property: foaf:name\n",
    "    type: literal\n",
    "    value: *any_name\n",
    "  \n",
    "  - &homepage\n",
    "    statementID: homepage\n",
    "    displayName: Homepage\n",
    "    property: foaf:homepage\n",
    "    type: IRI\n",
    "    value: *url\n",
    "\n",
    "  - &organization\n",
    "    statementID: organization \n",
    "    displayName: Organization\n",
    "    property: foaf:Organization\n",
    "    type: literal\n",
    "    value : *any_name\n",
    "\n",
    "\n",
    "descriptions:\n",
    "\n",
    "  - &book\n",
    "    descID: book \n",
    "    displayName: Book\n",
    "    property: schema:Book\n",
    "    statements: \n",
    "      - << : *title\n",
    "        minOccur : 1\n",
    "        maxOccur : 1\n",
    "\n",
    "  - &creator\n",
    "    descID: creator \n",
    "    displayName: Creator \n",
    "    property: dc:creator\n",
    "    statements: \n",
    "      - << : *name\n",
    "        minOccur : 1\n",
    "        maxOccur : -1\n",
    "      - << : *homepage\n",
    "        minOccur : 0\n",
    "        maxOccur : 1\n",
    "\n",
    "  - &publisher\n",
    "    descID: publisher \n",
    "    displayName: publisher\n",
    "    property: dc:publisher\n",
    "    statements: \n",
    "      - << : *organization\n",
    "        minOccur : 1\n",
    "        maxOccur : 1\n",
    "      - << : *homepage\n",
    "        minOccur : 0\n",
    "        maxOccur : 1\n",
    "\n",
    "  - &distributor\n",
    "    descID: distributor \n",
    "    displayName: Distributor\n",
    "    property: bibframe:Distribution\n",
    "    notes: >\n",
    "        Online and offline distributors can be included. \n",
    "        For the case of online distributors, \n",
    "        also, add the storefront as a homepage.\n",
    "    statements: \n",
    "      - << : *organization\n",
    "        minOccur : 1\n",
    "        maxOccur : -1\n",
    "      - << : *homepage\n",
    "        minOccur : 0\n",
    "        maxOccur : -1\n",
    "\n",
    "descriptionSet: \n",
    "\n",
    "  descSetID: BookCase\n",
    "  title: The Book Case\n",
    "  notes: The curios case of a book as an application profile\n",
    "  descriptions : [*book, *creator, *publisher, *distributor]\n",
    "\n",
    "\n",
    "\"\"\""
   ]
  },
  {
   "cell_type": "markdown",
   "metadata": {},
   "source": [
    "### 2. Parsing YAML"
   ]
  },
  {
   "cell_type": "code",
   "execution_count": null,
   "metadata": {},
   "outputs": [],
   "source": [
    "from ruamel.yaml import YAML\n",
    "\n",
    "yaml=YAML()\n",
    "ap=yaml.load(ap_yaml)"
   ]
  },
  {
   "cell_type": "markdown",
   "metadata": {},
   "source": [
    "### 3. Parsed AP structure"
   ]
  },
  {
   "cell_type": "code",
   "execution_count": null,
   "metadata": {},
   "outputs": [],
   "source": [
    "import json\n",
    "print(json.dumps(ap, indent=4))"
   ]
  },
  {
   "cell_type": "markdown",
   "metadata": {},
   "source": [
    "### 4. ShExC Jinja2 Template"
   ]
  },
  {
   "cell_type": "code",
   "execution_count": null,
   "metadata": {},
   "outputs": [],
   "source": [
    "shex_jinja = \"\"\"\n",
    "{%- for prefix, uri in namespaces.items() %}\n",
    "PREFIX {{prefix}}: <{{uri}}>\n",
    "{%- endfor %}\n",
    "BASE <http://purl.org/yama/example/mybook/v021/#>\n",
    "\n",
    "<{{descriptionSet.descSetID}}> {\n",
    "  {%- for description in descriptionSet.descriptions %}\n",
    "  {{description.property}} @<{{description.descID}}>;\n",
    "  {%- endfor %}\n",
    "}\n",
    "\n",
    "{%- for description in descriptions %}\n",
    "<{{description.descID}}> {\n",
    "  {%- for statement in description.statements%}\n",
    "  {{statement.property}} @<{{statement.statementID}}> { {{statement.minOccur}},{{statement.maxOccur}} };\n",
    "  {%- endfor %}\n",
    "}\n",
    "{%- endfor %}\n",
    "\n",
    "{%- for statement in statements %}\n",
    "<{{statement.statementID}}> {\n",
    "    {{statement.property}}{% if not statement.value %} {{ statement.type }} {% endif %} {{statement.value.dataType}} ;\n",
    "}\n",
    "{%- endfor %}\n",
    "\n",
    "\"\"\""
   ]
  },
  {
   "cell_type": "markdown",
   "metadata": {},
   "source": [
    "### 5. Rendering the ShExC Template with MAP and Jinja2"
   ]
  },
  {
   "cell_type": "code",
   "execution_count": null,
   "metadata": {},
   "outputs": [],
   "source": [
    "from jinja2 import Template\n",
    "template = Template(shex_jinja)\n",
    "shexc_output = template.render(ap)\n",
    "print(shexc_output)"
   ]
  },
  {
   "cell_type": "markdown",
   "metadata": {},
   "source": [
    "### 6. Loading the PyShExC library"
   ]
  },
  {
   "cell_type": "code",
   "execution_count": null,
   "metadata": {},
   "outputs": [],
   "source": [
    "import pyshexc\n",
    "from pyshexc.parser_impl.generate_shexj import parse"
   ]
  },
  {
   "cell_type": "markdown",
   "metadata": {},
   "source": [
    "### 7. Converting ShExC to ShExJ"
   ]
  },
  {
   "cell_type": "code",
   "execution_count": null,
   "metadata": {},
   "outputs": [],
   "source": [
    "import json\n",
    "json_ap=parse(shexc_output)._as_json\n",
    "parsed = json.loads(json_ap)\n",
    "print(json.dumps(parsed, indent=4, sort_keys=False))"
   ]
  },
  {
   "cell_type": "code",
   "execution_count": null,
   "metadata": {},
   "outputs": [],
   "source": []
  }
 ],
 "metadata": {
  "kernelspec": {
   "display_name": "Python 3",
   "language": "python",
   "name": "python3"
  },
  "language_info": {
   "codemirror_mode": {
    "name": "ipython",
    "version": 3
   },
   "file_extension": ".py",
   "mimetype": "text/x-python",
   "name": "python",
   "nbconvert_exporter": "python",
   "pygments_lexer": "ipython3",
   "version": "3.7.4"
  }
 },
 "nbformat": 4,
 "nbformat_minor": 2
}
